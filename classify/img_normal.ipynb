{
 "cells": [
  {
   "cell_type": "code",
   "execution_count": 11,
   "source": [
    "import torch\r\n",
    "from torchvision import transforms\r\n",
    "from torchvision.datasets import ImageFolder\r\n",
    "from torchvision.transforms import ToTensor"
   ],
   "outputs": [],
   "metadata": {}
  },
  {
   "cell_type": "code",
   "execution_count": 12,
   "source": [
    "img_dir = \"./cat_dog_class\""
   ],
   "outputs": [],
   "metadata": {}
  },
  {
   "cell_type": "markdown",
   "source": [
    "## Use Resize"
   ],
   "metadata": {}
  },
  {
   "cell_type": "code",
   "execution_count": 13,
   "source": [
    "# transform\r\n",
    "transform = transforms.Compose([\r\n",
    "    transforms.Resize((224, 224)),\r\n",
    "    transforms.ToTensor()\r\n",
    "])\r\n",
    "\r\n",
    "dataset = ImageFolder(img_dir, transform)\r\n",
    "\r\n",
    "# data load\r\n",
    "loader = torch.utils.data.DataLoader(dataset, batch_size=64, shuffle=True)\r\n",
    "\r\n",
    "# initialize\r\n",
    "mean = 0.\r\n",
    "std = 0.\r\n",
    "total_samples = 0\r\n",
    "\r\n",
    "\r\n",
    "for data in loader:\r\n",
    "    images, _ = data\r\n",
    "    batch_samples = images.size(0)\r\n",
    "    # image width\r\n",
    "    images = images.view(batch_samples, images.size(1), -1)\r\n",
    "    mean += images.mean(2).sum(0)\r\n",
    "    std += images.std(2).sum(0)\r\n",
    "    total_samples += batch_samples\r\n",
    "\r\n",
    "mean /= total_samples\r\n",
    "std /= total_samples\r\n",
    "\r\n",
    "print(f'Mean: {mean}')\r\n",
    "print(f'Standard Deviation: {std}')\r\n",
    "\r\n",
    "# Mean: tensor([0.4883, 0.4551, 0.4170])\r\n",
    "# Standard Deviation: tensor([0.2256, 0.2211, 0.2213])"
   ],
   "outputs": [],
   "metadata": {}
  },
  {
   "cell_type": "markdown",
   "source": [
    "## Use RandomResizedCrop for resizing"
   ],
   "metadata": {}
  },
  {
   "cell_type": "code",
   "execution_count": 1,
   "source": [
    "# # transform\r\n",
    "# transform = transforms.Compose([\r\n",
    "#     transforms.RandomResizedCrop(224),\r\n",
    "#     transforms.ToTensor()\r\n",
    "# ])\r\n",
    "\r\n",
    "# dataset = ImageFolder(img_dir, transform)\r\n",
    "\r\n",
    "# # data load\r\n",
    "# loader = torch.utils.data.DataLoader(dataset, batch_size=64, shuffle=True)\r\n",
    "\r\n",
    "# # initialize\r\n",
    "# mean = 0.\r\n",
    "# std = 0.\r\n",
    "# total_samples = 0\r\n",
    "\r\n",
    "\r\n",
    "# for data in loader:\r\n",
    "#     images, _ = data\r\n",
    "#     batch_samples = images.size(0)\r\n",
    "#     # image width\r\n",
    "#     images = images.view(batch_samples, images.size(1), -1)\r\n",
    "#     mean += images.mean(2).sum(0)\r\n",
    "#     std += images.std(2).sum(0)\r\n",
    "#     total_samples += batch_samples\r\n",
    "\r\n",
    "# mean /= total_samples\r\n",
    "# std /= total_samples\r\n",
    "\r\n",
    "# print(f'Mean: {mean}')\r\n",
    "# print(f'Standard Deviation: {std}')\r\n",
    "\r\n",
    "# # Mean: tensor([0.4870, 0.4493, 0.4105])\r\n",
    "# # Standard Deviation: tensor([0.2130, 0.2088, 0.2075])"
   ],
   "outputs": [],
   "metadata": {}
  }
 ],
 "metadata": {
  "orig_nbformat": 4,
  "language_info": {
   "name": "python",
   "version": "3.9.6",
   "mimetype": "text/x-python",
   "codemirror_mode": {
    "name": "ipython",
    "version": 3
   },
   "pygments_lexer": "ipython3",
   "nbconvert_exporter": "python",
   "file_extension": ".py"
  },
  "kernelspec": {
   "name": "python3",
   "display_name": "Python 3.9.6 64-bit"
  },
  "interpreter": {
   "hash": "0ac516125b3ee16d4eaa41f008fade7bad50b808bd1b6d74d2e8ae0015ba9066"
  }
 },
 "nbformat": 4,
 "nbformat_minor": 2
}