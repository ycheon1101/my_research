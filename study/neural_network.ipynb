{
 "cells": [
  {
   "cell_type": "code",
   "execution_count": 41,
   "metadata": {},
   "outputs": [],
   "source": [
    "import os\n",
    "import torch\n",
    "from torch import nn\n",
    "from torch.utils.data import DataLoader\n",
    "from torchvision import datasets, transforms"
   ]
  },
  {
   "cell_type": "code",
   "execution_count": 42,
   "metadata": {},
   "outputs": [
    {
     "name": "stdout",
     "output_type": "stream",
     "text": [
      "mps\n"
     ]
    }
   ],
   "source": [
    "device = (\n",
    "    \"cuda\"\n",
    "    if torch.cuda.is_available()\n",
    "    else \"mps\"\n",
    "    if torch.backends.mps.is_available()\n",
    "    else 'cpu'\n",
    ")\n",
    "\n",
    "print(device)"
   ]
  },
  {
   "cell_type": "code",
   "execution_count": 43,
   "metadata": {},
   "outputs": [],
   "source": [
    "# FC and Relu\n",
    "class NeuralNetwork(nn.Module):\n",
    "    def __init__(self):\n",
    "        super().__init__()\n",
    "        # To make 1 dimension\n",
    "        self.flatten = nn.Flatten()\n",
    "        self.linear_relu_stack = nn.Sequential(\n",
    "            nn.Linear(28*28, 512),\n",
    "            nn.ReLU(),\n",
    "            nn.Linear(512, 512),\n",
    "            nn.ReLU(),\n",
    "            nn.Linear(512, 10),\n",
    "            nn.ReLU(),\n",
    "        )\n",
    "    \n",
    "    def forward(self, x):\n",
    "        x = self.flatten(x)\n",
    "        logits = self.linear_relu_stack(x)\n",
    "        return logits"
   ]
  },
  {
   "cell_type": "code",
   "execution_count": 44,
   "metadata": {},
   "outputs": [
    {
     "name": "stdout",
     "output_type": "stream",
     "text": [
      "NeuralNetwork(\n",
      "  (flatten): Flatten(start_dim=1, end_dim=-1)\n",
      "  (linear_relu_stack): Sequential(\n",
      "    (0): Linear(in_features=784, out_features=512, bias=True)\n",
      "    (1): ReLU()\n",
      "    (2): Linear(in_features=512, out_features=512, bias=True)\n",
      "    (3): ReLU()\n",
      "    (4): Linear(in_features=512, out_features=10, bias=True)\n",
      "    (5): ReLU()\n",
      "  )\n",
      ")\n"
     ]
    }
   ],
   "source": [
    "model = NeuralNetwork().to(device='mps')\n",
    "print(model)"
   ]
  },
  {
   "cell_type": "code",
   "execution_count": 45,
   "metadata": {},
   "outputs": [
    {
     "name": "stdout",
     "output_type": "stream",
     "text": [
      "Predicted class: tensor([2], device='mps:0')\n"
     ]
    }
   ],
   "source": [
    "# softmax(classify)\n",
    "\n",
    "x = torch.rand(1, 28, 28, device=device)\n",
    "logits = model(x)\n",
    "pred_probab = nn.Softmax(dim=1)(logits)\n",
    "y_pred = pred_probab.argmax(1)\n",
    "\n",
    "print(f'Predicted class: {y_pred}')\n"
   ]
  },
  {
   "cell_type": "code",
   "execution_count": 46,
   "metadata": {},
   "outputs": [
    {
     "name": "stdout",
     "output_type": "stream",
     "text": [
      "torch.Size([3, 28, 28])\n"
     ]
    }
   ],
   "source": [
    "# layer\n",
    "\n",
    "input_image = torch.rand(3, 28, 28)\n",
    "print(input_image.size())"
   ]
  },
  {
   "cell_type": "code",
   "execution_count": 47,
   "metadata": {},
   "outputs": [
    {
     "name": "stdout",
     "output_type": "stream",
     "text": [
      "torch.Size([3, 784])\n"
     ]
    }
   ],
   "source": [
    "# flatten\n",
    "\n",
    "flatten = nn.Flatten()\n",
    "flat_image = flatten(input_image)\n",
    "print(flat_image.size())"
   ]
  },
  {
   "cell_type": "code",
   "execution_count": 48,
   "metadata": {},
   "outputs": [
    {
     "name": "stdout",
     "output_type": "stream",
     "text": [
      "torch.Size([3, 20])\n"
     ]
    }
   ],
   "source": [
    "# linear\n",
    "\n",
    "layer1 = nn.Linear(in_features=28*28, out_features=20)\n",
    "hidden1 = layer1(flat_image)\n",
    "print(hidden1.size())"
   ]
  },
  {
   "cell_type": "code",
   "execution_count": 49,
   "metadata": {},
   "outputs": [
    {
     "name": "stdout",
     "output_type": "stream",
     "text": [
      "Before ReLU: tensor([[-1.0506e-01, -3.0989e-01,  1.8726e-01, -1.4629e-01, -4.1669e-01,\n",
      "          3.4275e-01, -2.8735e-02, -6.9294e-01, -5.4847e-02,  1.4303e-01,\n",
      "          2.2102e-01, -4.3851e-01,  1.7006e-01,  1.7458e-01, -2.4902e-01,\n",
      "          2.8003e-02,  4.7930e-01, -3.0579e-01,  4.0274e-02,  4.1201e-01],\n",
      "        [-2.0256e-01, -4.0367e-01,  3.1029e-01, -1.0780e-01, -2.8202e-01,\n",
      "          7.0549e-01, -4.4443e-01, -7.0698e-01, -2.6976e-01, -3.4651e-01,\n",
      "          4.2472e-01, -4.0351e-01,  1.6199e-01,  1.3469e-01, -4.9725e-01,\n",
      "         -3.4175e-02, -6.9464e-04, -1.2084e-01, -2.4637e-01,  6.9760e-01],\n",
      "        [-1.5589e-01, -8.5568e-02,  4.8741e-01, -1.3863e-01, -3.1065e-01,\n",
      "          1.8929e-01, -4.4343e-01, -7.2198e-01, -8.0412e-02,  7.5898e-02,\n",
      "          3.3217e-01, -5.8602e-01,  4.6109e-01,  6.9992e-02, -2.1211e-01,\n",
      "         -6.5773e-03,  9.3771e-02, -2.0321e-01, -2.9575e-01,  4.6538e-01]],\n",
      "       grad_fn=<AddmmBackward0>)\n",
      "\n",
      "\n",
      "After ReLU: tensor([[0.0000, 0.0000, 0.1873, 0.0000, 0.0000, 0.3428, 0.0000, 0.0000, 0.0000,\n",
      "         0.1430, 0.2210, 0.0000, 0.1701, 0.1746, 0.0000, 0.0280, 0.4793, 0.0000,\n",
      "         0.0403, 0.4120],\n",
      "        [0.0000, 0.0000, 0.3103, 0.0000, 0.0000, 0.7055, 0.0000, 0.0000, 0.0000,\n",
      "         0.0000, 0.4247, 0.0000, 0.1620, 0.1347, 0.0000, 0.0000, 0.0000, 0.0000,\n",
      "         0.0000, 0.6976],\n",
      "        [0.0000, 0.0000, 0.4874, 0.0000, 0.0000, 0.1893, 0.0000, 0.0000, 0.0000,\n",
      "         0.0759, 0.3322, 0.0000, 0.4611, 0.0700, 0.0000, 0.0000, 0.0938, 0.0000,\n",
      "         0.0000, 0.4654]], grad_fn=<ReluBackward0>)\n"
     ]
    }
   ],
   "source": [
    "# ReLu\n",
    "\n",
    "print(f'Before ReLU: {hidden1}\\n\\n')\n",
    "\n",
    "hidden1 = nn.ReLU()(hidden1)\n",
    "\n",
    "print(f'After ReLU: {hidden1}')"
   ]
  },
  {
   "cell_type": "code",
   "execution_count": 50,
   "metadata": {},
   "outputs": [
    {
     "name": "stdout",
     "output_type": "stream",
     "text": [
      "tensor([[0.2447, 0.2795, 0.0176, 0.0000, 0.2124, 0.3247, 0.0144, 0.0218, 0.0000,\n",
      "         0.0645],\n",
      "        [0.2136, 0.1499, 0.0272, 0.0000, 0.1726, 0.2595, 0.0000, 0.0879, 0.0000,\n",
      "         0.0715],\n",
      "        [0.2269, 0.3389, 0.0000, 0.0000, 0.2954, 0.2176, 0.0554, 0.0696, 0.0000,\n",
      "         0.0409]], grad_fn=<ReluBackward0>)\n"
     ]
    }
   ],
   "source": [
    "seq_modules = nn.Sequential(\n",
    "    flatten,\n",
    "    layer1,\n",
    "    nn.ReLU(),\n",
    "    nn.Linear(20, 10),\n",
    "    nn.ReLU(),\n",
    ")\n",
    "\n",
    "input_image = torch.rand(3, 28, 28)\n",
    "logits = seq_modules(input_image)\n",
    "print(logits)"
   ]
  },
  {
   "cell_type": "code",
   "execution_count": 51,
   "metadata": {},
   "outputs": [
    {
     "name": "stdout",
     "output_type": "stream",
     "text": [
      "tensor([[0.1126, 0.1166, 0.0897, 0.0882, 0.1090, 0.1220, 0.0895, 0.0901, 0.0882,\n",
      "         0.0941],\n",
      "        [0.1118, 0.1049, 0.0928, 0.0903, 0.1073, 0.1170, 0.0903, 0.0986, 0.0903,\n",
      "         0.0970],\n",
      "        [0.1099, 0.1229, 0.0876, 0.0876, 0.1177, 0.1089, 0.0926, 0.0939, 0.0876,\n",
      "         0.0913]], grad_fn=<SoftmaxBackward0>)\n"
     ]
    }
   ],
   "source": [
    "softmax = nn.Softmax(dim=1)\n",
    "pred_probab = softmax(logits)\n",
    "\n",
    "print(pred_probab)"
   ]
  },
  {
   "cell_type": "code",
   "execution_count": 52,
   "metadata": {},
   "outputs": [
    {
     "name": "stdout",
     "output_type": "stream",
     "text": [
      "Model structure: NeuralNetwork(\n",
      "  (flatten): Flatten(start_dim=1, end_dim=-1)\n",
      "  (linear_relu_stack): Sequential(\n",
      "    (0): Linear(in_features=784, out_features=512, bias=True)\n",
      "    (1): ReLU()\n",
      "    (2): Linear(in_features=512, out_features=512, bias=True)\n",
      "    (3): ReLU()\n",
      "    (4): Linear(in_features=512, out_features=10, bias=True)\n",
      "    (5): ReLU()\n",
      "  )\n",
      ")\n",
      "\n",
      "\n",
      "Layer: linear_relu_stack.0.weight : Size: torch.Size([512, 784]) : values : tensor([[-0.0032,  0.0116,  0.0101,  ..., -0.0132,  0.0356,  0.0185],\n",
      "        [-0.0210, -0.0303,  0.0280,  ..., -0.0039, -0.0113,  0.0004]],\n",
      "       device='mps:0', grad_fn=<SliceBackward0>) \n",
      "\n",
      "Layer: linear_relu_stack.0.bias : Size: torch.Size([512]) : values : tensor([-0.0116,  0.0282], device='mps:0', grad_fn=<SliceBackward0>) \n",
      "\n",
      "Layer: linear_relu_stack.2.weight : Size: torch.Size([512, 512]) : values : tensor([[-0.0283,  0.0072,  0.0138,  ...,  0.0258,  0.0164, -0.0325],\n",
      "        [-0.0078,  0.0153,  0.0149,  ...,  0.0224,  0.0215, -0.0200]],\n",
      "       device='mps:0', grad_fn=<SliceBackward0>) \n",
      "\n",
      "Layer: linear_relu_stack.2.bias : Size: torch.Size([512]) : values : tensor([ 0.0177, -0.0162], device='mps:0', grad_fn=<SliceBackward0>) \n",
      "\n",
      "Layer: linear_relu_stack.4.weight : Size: torch.Size([10, 512]) : values : tensor([[ 0.0153,  0.0049, -0.0117,  ...,  0.0364, -0.0145, -0.0058],\n",
      "        [ 0.0053,  0.0108,  0.0220,  ..., -0.0030,  0.0169,  0.0271]],\n",
      "       device='mps:0', grad_fn=<SliceBackward0>) \n",
      "\n",
      "Layer: linear_relu_stack.4.bias : Size: torch.Size([10]) : values : tensor([0.0422, 0.0244], device='mps:0', grad_fn=<SliceBackward0>) \n",
      "\n"
     ]
    }
   ],
   "source": [
    "print(f'Model structure: {model}\\n\\n')\n",
    "\n",
    "for name, param in model.named_parameters():\n",
    "    print(f'Layer: {name} : Size: {param.size()} : values : {param[:2]} \\n')"
   ]
  }
 ],
 "metadata": {
  "kernelspec": {
   "display_name": "base",
   "language": "python",
   "name": "python3"
  },
  "language_info": {
   "codemirror_mode": {
    "name": "ipython",
    "version": 3
   },
   "file_extension": ".py",
   "mimetype": "text/x-python",
   "name": "python",
   "nbconvert_exporter": "python",
   "pygments_lexer": "ipython3",
   "version": "3.10.12"
  },
  "orig_nbformat": 4
 },
 "nbformat": 4,
 "nbformat_minor": 2
}
