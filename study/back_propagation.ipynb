{
 "cells": [
  {
   "cell_type": "code",
   "execution_count": 1,
   "metadata": {},
   "outputs": [],
   "source": [
    "import torch\n",
    "from torch.autograd import Variable"
   ]
  },
  {
   "cell_type": "code",
   "execution_count": 6,
   "metadata": {},
   "outputs": [
    {
     "name": "stdout",
     "output_type": "stream",
     "text": [
      "tensor([1.], requires_grad=True)\n"
     ]
    }
   ],
   "source": [
    "x_data = [1.0, 2.0, 3.0]\n",
    "y_data = [2.0, 4.0, 6.0]\n",
    "\n",
    "w = Variable(torch.Tensor([1.0]), requires_grad = True)\n",
    "print(w)"
   ]
  },
  {
   "cell_type": "code",
   "execution_count": 26,
   "metadata": {},
   "outputs": [],
   "source": [
    "x = torch.randn(1, 10, requires_grad= True)\n",
    "prev_h = torch.randn(1, 20, requires_grad= True)\n",
    "w_h = torch.randn(20, 20, requires_grad= True)\n",
    "w_x = torch.randn(20, 10, requires_grad= True)\n",
    "\n",
    "i2h = torch.matmul(w_x, x.t())\n",
    "h2h = torch.matmul(w_h, prev_h.t())\n",
    "\n",
    "next_h = i2h + h2h\n",
    "next_h = next_h.tanh()\n",
    "\n",
    "# print(next_h)\n",
    "\n",
    "# next_h.backward(torch.ones(1, 20))\n",
    "\n",
    "loss = torch.mean(next_h)\n",
    "\n",
    "loss.backward()\n"
   ]
  },
  {
   "cell_type": "code",
   "execution_count": 27,
   "metadata": {},
   "outputs": [],
   "source": [
    "def forward(x):\n",
    "    return x * w"
   ]
  },
  {
   "cell_type": "code",
   "execution_count": 28,
   "metadata": {},
   "outputs": [],
   "source": [
    "def loss(x, y):\n",
    "    y_pred = forward(x)\n",
    "    return (y_pred - y) ** 2"
   ]
  },
  {
   "cell_type": "code",
   "execution_count": 31,
   "metadata": {},
   "outputs": [
    {
     "name": "stdout",
     "output_type": "stream",
     "text": [
      "predict (before training) 4 tensor(4.)\n"
     ]
    }
   ],
   "source": [
    "print('predict (before training)', 4, forward(4).data[0])"
   ]
  },
  {
   "cell_type": "code",
   "execution_count": 32,
   "metadata": {},
   "outputs": [
    {
     "name": "stdout",
     "output_type": "stream",
     "text": [
      "\t grad: -2.0\n",
      "\t grad: -7.840000152587891\n",
      "\t grad: -16.228801727294922\n",
      "Progress:  0 tensor(7.3159)\n",
      "\t grad: -1.478623867034912\n",
      "\t grad: -5.796205520629883\n",
      "\t grad: -11.998146057128906\n",
      "Progress:  1 tensor(3.9988)\n",
      "\t grad: -1.0931644439697266\n",
      "\t grad: -4.285204887390137\n",
      "\t grad: -8.870372772216797\n",
      "Progress:  2 tensor(2.1857)\n",
      "\t grad: -0.8081896305084229\n",
      "\t grad: -3.1681032180786133\n",
      "\t grad: -6.557973861694336\n",
      "Progress:  3 tensor(1.1946)\n",
      "\t grad: -0.5975041389465332\n",
      "\t grad: -2.3422164916992188\n",
      "\t grad: -4.848389625549316\n",
      "Progress:  4 tensor(0.6530)\n",
      "\t grad: -0.4417421817779541\n",
      "\t grad: -1.7316293716430664\n",
      "\t grad: -3.58447265625\n",
      "Progress:  5 tensor(0.3569)\n",
      "\t grad: -0.3265852928161621\n",
      "\t grad: -1.2802143096923828\n",
      "\t grad: -2.650045394897461\n",
      "Progress:  6 tensor(0.1951)\n",
      "\t grad: -0.24144840240478516\n",
      "\t grad: -0.9464778900146484\n",
      "\t grad: -1.9592113494873047\n",
      "Progress:  7 tensor(0.1066)\n",
      "\t grad: -0.17850565910339355\n",
      "\t grad: -0.699742317199707\n",
      "\t grad: -1.4484672546386719\n",
      "Progress:  8 tensor(0.0583)\n",
      "\t grad: -0.1319713592529297\n",
      "\t grad: -0.5173273086547852\n",
      "\t grad: -1.070866584777832\n",
      "Progress:  9 tensor(0.0319)\n"
     ]
    }
   ],
   "source": [
    "# training\n",
    "\n",
    "for epoch in range(10):\n",
    "    for x_val, y_val in zip(x_data, y_data):\n",
    "        l = loss(x_val, y_val)\n",
    "        # automatic differentiation\n",
    "        l.backward()\n",
    "        print(f'\\t grad: {w.grad.data[0]}')\n",
    "        w.data = w.data - 0.01 * w.grad.data\n",
    "\n",
    "        w.grad.data.zero_()\n",
    "    print('Progress: ', epoch, l.data[0])"
   ]
  },
  {
   "cell_type": "code",
   "execution_count": null,
   "metadata": {},
   "outputs": [],
   "source": []
  }
 ],
 "metadata": {
  "kernelspec": {
   "display_name": "base",
   "language": "python",
   "name": "python3"
  },
  "language_info": {
   "codemirror_mode": {
    "name": "ipython",
    "version": 3
   },
   "file_extension": ".py",
   "mimetype": "text/x-python",
   "name": "python",
   "nbconvert_exporter": "python",
   "pygments_lexer": "ipython3",
   "version": "3.10.12"
  },
  "orig_nbformat": 4
 },
 "nbformat": 4,
 "nbformat_minor": 2
}
