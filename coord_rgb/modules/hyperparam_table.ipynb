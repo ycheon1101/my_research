{
 "cells": [
  {
   "cell_type": "code",
   "execution_count": 22,
   "metadata": {},
   "outputs": [
    {
     "name": "stdout",
     "output_type": "stream",
     "text": [
      "      num_epochs  learning_rate  scale  hidden_feature  hidden_layers\n",
      "0            200          0.010      1              32              6\n",
      "1            200          0.010      1              32              8\n",
      "2            200          0.010      1              32             10\n",
      "3            200          0.010      1              32             12\n",
      "4            200          0.010      1              64              6\n",
      "...          ...            ...    ...             ...            ...\n",
      "1915         500          0.005     10             128             12\n",
      "1916         500          0.005     10             256              6\n",
      "1917         500          0.005     10             256              8\n",
      "1918         500          0.005     10             256             10\n",
      "1919         500          0.005     10             256             12\n",
      "\n",
      "[1920 rows x 5 columns]\n"
     ]
    }
   ],
   "source": [
    "import pandas as pd\n",
    "from itertools import product\n",
    "\n",
    "# hyperparam_df = pd.DataFrame(columns = ['num_epochs', 'learning_rate', 'scale', 'hidden_feature', 'hidden_layers'])\n",
    "# print(hyperparam_df)\n",
    "# hyperparam_df\n",
    "\n",
    "# num_epochs_list = [200, 300, 400, 500]\n",
    "num_epochs_list = list(range(200, 501))[::100]\n",
    "\n",
    "# learning_rate_list = [0.01, 0.001, 0.005]\n",
    "learning_rate_list = [0.01, 0.001, 0.005]\n",
    "\n",
    "# scale_list = [1, 2, 3,,,10]\n",
    "scale_list = list(range(1, 11))\n",
    "\n",
    "# hidden_feature_list = [32, 64, 128, 256]\n",
    "hidden_feature_list = list(map(lambda x: 32 * x,[2 ** i for i in range(4)] ))\n",
    "\n",
    "# hidden_layers_list = [6, 8, 10, 12]\n",
    "hidden_layers_list = list(range(6, 13))[::2]\n",
    "\n",
    "# all possible values\n",
    "all_combinations = list(product(num_epochs_list, learning_rate_list, scale_list, hidden_feature_list, hidden_layers_list))\n",
    "\n",
    "# [0, 1919]\n",
    "hyperparam_df = pd.DataFrame(all_combinations, columns=['num_epochs', 'learning_rate', 'scale', 'hidden_feature', 'hidden_layers'])\n",
    "print(hyperparam_df)\n",
    "print(len(hyperparam_df))\n"
   ]
  }
 ],
 "metadata": {
  "kernelspec": {
   "display_name": "py3.9.13",
   "language": "python",
   "name": "python3"
  },
  "language_info": {
   "codemirror_mode": {
    "name": "ipython",
    "version": 3
   },
   "file_extension": ".py",
   "mimetype": "text/x-python",
   "name": "python",
   "nbconvert_exporter": "python",
   "pygments_lexer": "ipython3",
   "version": "3.9.13"
  },
  "orig_nbformat": 4
 },
 "nbformat": 4,
 "nbformat_minor": 2
}
